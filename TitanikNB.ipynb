{
 "cells": [
  {
   "cell_type": "markdown",
   "metadata": {},
   "source": [
    "Overview\n",
    "\n",
    "The data has been split into two groups:\n",
    "\n",
    "    training set (train.csv)\n",
    "    test set (test.csv)\n",
    "\n",
    "The training set should be used to build your machine learning models. For the training set, we provide the outcome (also known as the “ground truth”) for each passenger. Your model will be based on “features” like passengers’ gender and class. You can also use feature engineering to create new features.\n",
    "\n",
    "The test set should be used to see how well your model performs on unseen data. For the test set, we do not provide the ground truth for each passenger. It is your job to predict these outcomes. For each passenger in the test set, use the model you trained to predict whether or not they survived the sinking of the Titanic.\n",
    "\n",
    "We also include gender_submission.csv, a set of predictions that assume all and only female passengers survive, as an example of what a submission file should look like.\n",
    "\n",
    "Data Dictionary\n",
    "Variable\tDefinition\tKey\n",
    "survival \tSurvival \t0 = No, 1 = Yes\n",
    "pclass \tTicket class \t1 = 1st, 2 = 2nd, 3 = 3rd\n",
    "sex \tSex \t\n",
    "Age \tAge in years \t\n",
    "sibsp \t# of siblings / spouses aboard the Titanic \t\n",
    "parch \t# of parents / children aboard the Titanic \t\n",
    "ticket \tTicket number \t\n",
    "fare \tPassenger fare \t\n",
    "cabin \tCabin number \t\n",
    "embarked \tPort of Embarkation \tC = Cherbourg, Q = Queenstown, S = Southampton\n",
    "Variable Notes\n",
    "\n",
    "pclass: A proxy for socio-economic status (SES)\n",
    "1st = Upper\n",
    "2nd = Middle\n",
    "3rd = Lower\n",
    "\n",
    "age: Age is fractional if less than 1. If the age is estimated, is it in the form of xx.5\n",
    "\n",
    "sibsp: The dataset defines family relations in this way...\n",
    "Sibling = brother, sister, stepbrother, stepsister\n",
    "Spouse = husband, wife (mistresses and fiancés were ignored)\n",
    "\n",
    "parch: The dataset defines family relations in this way...\n",
    "Parent = mother, father\n",
    "Child = daughter, son, stepdaughter, stepson\n",
    "Some children travelled only with a nanny, therefore parch=0 for them.\n",
    "\n",
    "https://www.encyclopedia-titanica.org/titanic-deckplans/"
   ]
  },
  {
   "cell_type": "code",
   "execution_count": 33,
   "metadata": {},
   "outputs": [],
   "source": [
    "%matplotlib inline\n",
    "import matplotlib.pyplot as plt\n",
    "import pandas as pd\n",
    "import numpy as np\n",
    "from sklearn.preprocessing import LabelEncoder, OneHotEncoder\n",
    "from sklearn.neighbors import KNeighborsClassifier\n",
    "from sklearn.model_selection import train_test_split\n",
    "from matplotlib import cm\n",
    "from sklearn.linear_model import LogisticRegression\n",
    "from sklearn.neural_network import MLPClassifier\n",
    "from sklearn.metrics import roc_curve, auc, precision_recall_curve, accuracy_score, precision_score, recall_score"
   ]
  },
  {
   "cell_type": "code",
   "execution_count": 34,
   "metadata": {},
   "outputs": [],
   "source": [
    "titanic = pd.read_csv('Titanic.csv', sep=',')"
   ]
  },
  {
   "cell_type": "code",
   "execution_count": 35,
   "metadata": {},
   "outputs": [
    {
     "data": {
      "text/html": [
       "<div>\n",
       "<style scoped>\n",
       "    .dataframe tbody tr th:only-of-type {\n",
       "        vertical-align: middle;\n",
       "    }\n",
       "\n",
       "    .dataframe tbody tr th {\n",
       "        vertical-align: top;\n",
       "    }\n",
       "\n",
       "    .dataframe thead th {\n",
       "        text-align: right;\n",
       "    }\n",
       "</style>\n",
       "<table border=\"1\" class=\"dataframe\">\n",
       "  <thead>\n",
       "    <tr style=\"text-align: right;\">\n",
       "      <th></th>\n",
       "      <th>PassengerId</th>\n",
       "      <th>Survived</th>\n",
       "      <th>Pclass</th>\n",
       "      <th>Name</th>\n",
       "      <th>Sex</th>\n",
       "      <th>Age</th>\n",
       "      <th>SibSp</th>\n",
       "      <th>Parch</th>\n",
       "      <th>Ticket</th>\n",
       "      <th>Fare</th>\n",
       "      <th>Cabin</th>\n",
       "      <th>Embarked</th>\n",
       "    </tr>\n",
       "  </thead>\n",
       "  <tbody>\n",
       "    <tr>\n",
       "      <th>0</th>\n",
       "      <td>1</td>\n",
       "      <td>0</td>\n",
       "      <td>3</td>\n",
       "      <td>Braund, Mr. Owen Harris</td>\n",
       "      <td>male</td>\n",
       "      <td>22.0</td>\n",
       "      <td>1</td>\n",
       "      <td>0</td>\n",
       "      <td>A/5 21171</td>\n",
       "      <td>7.2500</td>\n",
       "      <td>NaN</td>\n",
       "      <td>S</td>\n",
       "    </tr>\n",
       "    <tr>\n",
       "      <th>1</th>\n",
       "      <td>2</td>\n",
       "      <td>1</td>\n",
       "      <td>1</td>\n",
       "      <td>Cumings, Mrs. John Bradley (Florence Briggs Th...</td>\n",
       "      <td>female</td>\n",
       "      <td>38.0</td>\n",
       "      <td>1</td>\n",
       "      <td>0</td>\n",
       "      <td>PC 17599</td>\n",
       "      <td>71.2833</td>\n",
       "      <td>C85</td>\n",
       "      <td>C</td>\n",
       "    </tr>\n",
       "    <tr>\n",
       "      <th>2</th>\n",
       "      <td>3</td>\n",
       "      <td>1</td>\n",
       "      <td>3</td>\n",
       "      <td>Heikkinen, Miss. Laina</td>\n",
       "      <td>female</td>\n",
       "      <td>26.0</td>\n",
       "      <td>0</td>\n",
       "      <td>0</td>\n",
       "      <td>STON/O2. 3101282</td>\n",
       "      <td>7.9250</td>\n",
       "      <td>NaN</td>\n",
       "      <td>S</td>\n",
       "    </tr>\n",
       "    <tr>\n",
       "      <th>3</th>\n",
       "      <td>4</td>\n",
       "      <td>1</td>\n",
       "      <td>1</td>\n",
       "      <td>Futrelle, Mrs. Jacques Heath (Lily May Peel)</td>\n",
       "      <td>female</td>\n",
       "      <td>35.0</td>\n",
       "      <td>1</td>\n",
       "      <td>0</td>\n",
       "      <td>113803</td>\n",
       "      <td>53.1000</td>\n",
       "      <td>C123</td>\n",
       "      <td>S</td>\n",
       "    </tr>\n",
       "    <tr>\n",
       "      <th>4</th>\n",
       "      <td>5</td>\n",
       "      <td>0</td>\n",
       "      <td>3</td>\n",
       "      <td>Allen, Mr. William Henry</td>\n",
       "      <td>male</td>\n",
       "      <td>35.0</td>\n",
       "      <td>0</td>\n",
       "      <td>0</td>\n",
       "      <td>373450</td>\n",
       "      <td>8.0500</td>\n",
       "      <td>NaN</td>\n",
       "      <td>S</td>\n",
       "    </tr>\n",
       "  </tbody>\n",
       "</table>\n",
       "</div>"
      ],
      "text/plain": [
       "   PassengerId  Survived  Pclass  \\\n",
       "0            1         0       3   \n",
       "1            2         1       1   \n",
       "2            3         1       3   \n",
       "3            4         1       1   \n",
       "4            5         0       3   \n",
       "\n",
       "                                                Name     Sex   Age  SibSp  \\\n",
       "0                            Braund, Mr. Owen Harris    male  22.0      1   \n",
       "1  Cumings, Mrs. John Bradley (Florence Briggs Th...  female  38.0      1   \n",
       "2                             Heikkinen, Miss. Laina  female  26.0      0   \n",
       "3       Futrelle, Mrs. Jacques Heath (Lily May Peel)  female  35.0      1   \n",
       "4                           Allen, Mr. William Henry    male  35.0      0   \n",
       "\n",
       "   Parch            Ticket     Fare Cabin Embarked  \n",
       "0      0         A/5 21171   7.2500   NaN        S  \n",
       "1      0          PC 17599  71.2833   C85        C  \n",
       "2      0  STON/O2. 3101282   7.9250   NaN        S  \n",
       "3      0            113803  53.1000  C123        S  \n",
       "4      0            373450   8.0500   NaN        S  "
      ]
     },
     "execution_count": 35,
     "metadata": {},
     "output_type": "execute_result"
    }
   ],
   "source": [
    "df = pd.DataFrame(titanic)\n",
    "df.head()"
   ]
  },
  {
   "cell_type": "code",
   "execution_count": 36,
   "metadata": {},
   "outputs": [],
   "source": [
    "diedSurvived = []\n",
    "for person in df['Survived']:\n",
    "    if person == 0:\n",
    "        diedSurvived.append('Died')\n",
    "    elif person == 1:\n",
    "        diedSurvived.append('Survived')\n",
    "df['diedSurvived'] = diedSurvived        "
   ]
  },
  {
   "cell_type": "markdown",
   "metadata": {},
   "source": [
    "## Uklanjanje nepostojećih"
   ]
  },
  {
   "cell_type": "code",
   "execution_count": 37,
   "metadata": {},
   "outputs": [
    {
     "data": {
      "text/plain": [
       "712"
      ]
     },
     "execution_count": 37,
     "metadata": {},
     "output_type": "execute_result"
    }
   ],
   "source": [
    "df.dropna(subset=['Embarked'], inplace=True)\n",
    "df.dropna(subset=['Age'], inplace=True)\n",
    "df.dropna(subset=['Sex'], inplace=True)\n",
    "df.reset_index(drop=True, inplace=True)\n",
    "len(df)"
   ]
  },
  {
   "cell_type": "markdown",
   "metadata": {},
   "source": [
    "## Label encoder"
   ]
  },
  {
   "cell_type": "code",
   "execution_count": 38,
   "metadata": {},
   "outputs": [],
   "source": [
    "le = LabelEncoder()\n",
    "\n",
    "SexL = le.fit_transform(df['Sex'])\n",
    "EmbarkedL = le.fit_transform(df['Embarked'])\n",
    "\n",
    "df['SexL'] = SexL\n",
    "df['EmbarkedL'] = EmbarkedL"
   ]
  },
  {
   "cell_type": "markdown",
   "metadata": {},
   "source": [
    "## OneHot encoder"
   ]
  },
  {
   "cell_type": "code",
   "execution_count": 39,
   "metadata": {},
   "outputs": [
    {
     "name": "stdout",
     "output_type": "stream",
     "text": [
      "['female' 'male']\n",
      "['C' 'Q' 'S']\n"
     ]
    }
   ],
   "source": [
    "enc = OneHotEncoder(categories = 'auto')\n",
    "\n",
    "Sex = le.fit_transform(df['Sex'])\n",
    "\n",
    "Sex = Sex.reshape(-1,1)\n",
    "\n",
    "enc.fit(Sex)\n",
    "onehotlabels = enc.transform(Sex).toarray()\n",
    "Sex = pd.DataFrame(onehotlabels)\n",
    "\n",
    "print(le.classes_)\n",
    "Sex.columns = ['Sex: female', 'Sex: male']\n",
    "Sex.reset_index(drop=True, inplace=True)\n",
    "\n",
    "Embarked = le.fit_transform(df['Embarked'])\n",
    "\n",
    "Embarked = Embarked.reshape(-1,1)\n",
    "\n",
    "enc.fit(Embarked)\n",
    "onehotlabels = enc.transform(Embarked).toarray()\n",
    "Embarked = pd.DataFrame(onehotlabels)\n",
    "\n",
    "print(le.classes_)\n",
    "Embarked.columns = ['Embarked: C', 'Embarked: Q', 'Embarked: S']\n",
    "Embarked.reset_index(drop=True, inplace=True)\n",
    "\n",
    "df = pd.concat([df, Sex, Embarked], axis=1, sort=False).reindex(df.index)"
   ]
  },
  {
   "cell_type": "code",
   "execution_count": 40,
   "metadata": {},
   "outputs": [],
   "source": [
    "df1 = ['PassengerId', 'Pclass', 'Name', 'Sex','SexL', 'Sex: female', 'Sex: male', 'Age', 'SibSp', 'Parch', 'Ticket', 'Fare', 'Cabin', 'Embarked', 'EmbarkedL', 'Embarked: C', 'Embarked: Q', 'Embarked: S', 'diedSurvived', 'Survived']\n",
    "df = df[df1]"
   ]
  },
  {
   "cell_type": "code",
   "execution_count": 41,
   "metadata": {},
   "outputs": [
    {
     "data": {
      "text/html": [
       "<div>\n",
       "<style scoped>\n",
       "    .dataframe tbody tr th:only-of-type {\n",
       "        vertical-align: middle;\n",
       "    }\n",
       "\n",
       "    .dataframe tbody tr th {\n",
       "        vertical-align: top;\n",
       "    }\n",
       "\n",
       "    .dataframe thead th {\n",
       "        text-align: right;\n",
       "    }\n",
       "</style>\n",
       "<table border=\"1\" class=\"dataframe\">\n",
       "  <thead>\n",
       "    <tr style=\"text-align: right;\">\n",
       "      <th></th>\n",
       "      <th>Sex: male</th>\n",
       "      <th>Sex: female</th>\n",
       "      <th>Embarked: C</th>\n",
       "      <th>Embarked: Q</th>\n",
       "      <th>Embarked: S</th>\n",
       "    </tr>\n",
       "  </thead>\n",
       "  <tbody>\n",
       "    <tr>\n",
       "      <th>0</th>\n",
       "      <td>1.0</td>\n",
       "      <td>0.0</td>\n",
       "      <td>0.0</td>\n",
       "      <td>0.0</td>\n",
       "      <td>1.0</td>\n",
       "    </tr>\n",
       "    <tr>\n",
       "      <th>1</th>\n",
       "      <td>0.0</td>\n",
       "      <td>1.0</td>\n",
       "      <td>1.0</td>\n",
       "      <td>0.0</td>\n",
       "      <td>0.0</td>\n",
       "    </tr>\n",
       "    <tr>\n",
       "      <th>2</th>\n",
       "      <td>0.0</td>\n",
       "      <td>1.0</td>\n",
       "      <td>0.0</td>\n",
       "      <td>0.0</td>\n",
       "      <td>1.0</td>\n",
       "    </tr>\n",
       "    <tr>\n",
       "      <th>3</th>\n",
       "      <td>0.0</td>\n",
       "      <td>1.0</td>\n",
       "      <td>0.0</td>\n",
       "      <td>0.0</td>\n",
       "      <td>1.0</td>\n",
       "    </tr>\n",
       "    <tr>\n",
       "      <th>4</th>\n",
       "      <td>1.0</td>\n",
       "      <td>0.0</td>\n",
       "      <td>0.0</td>\n",
       "      <td>0.0</td>\n",
       "      <td>1.0</td>\n",
       "    </tr>\n",
       "  </tbody>\n",
       "</table>\n",
       "</div>"
      ],
      "text/plain": [
       "   Sex: male  Sex: female  Embarked: C  Embarked: Q  Embarked: S\n",
       "0        1.0          0.0          0.0          0.0          1.0\n",
       "1        0.0          1.0          1.0          0.0          0.0\n",
       "2        0.0          1.0          0.0          0.0          1.0\n",
       "3        0.0          1.0          0.0          0.0          1.0\n",
       "4        1.0          0.0          0.0          0.0          1.0"
      ]
     },
     "execution_count": 41,
     "metadata": {},
     "output_type": "execute_result"
    }
   ],
   "source": [
    "df[['Sex: male', 'Sex: female', 'Embarked: C', 'Embarked: Q', 'Embarked: S']].head()"
   ]
  },
  {
   "cell_type": "code",
   "execution_count": 42,
   "metadata": {},
   "outputs": [
    {
     "data": {
      "text/html": [
       "<div>\n",
       "<style scoped>\n",
       "    .dataframe tbody tr th:only-of-type {\n",
       "        vertical-align: middle;\n",
       "    }\n",
       "\n",
       "    .dataframe tbody tr th {\n",
       "        vertical-align: top;\n",
       "    }\n",
       "\n",
       "    .dataframe thead th {\n",
       "        text-align: right;\n",
       "    }\n",
       "</style>\n",
       "<table border=\"1\" class=\"dataframe\">\n",
       "  <thead>\n",
       "    <tr style=\"text-align: right;\">\n",
       "      <th></th>\n",
       "      <th>PassengerId</th>\n",
       "      <th>Pclass</th>\n",
       "      <th>Name</th>\n",
       "      <th>Sex</th>\n",
       "      <th>SexL</th>\n",
       "      <th>Sex: female</th>\n",
       "      <th>Sex: male</th>\n",
       "      <th>Age</th>\n",
       "      <th>SibSp</th>\n",
       "      <th>Parch</th>\n",
       "      <th>Ticket</th>\n",
       "      <th>Fare</th>\n",
       "      <th>Cabin</th>\n",
       "      <th>Embarked</th>\n",
       "      <th>EmbarkedL</th>\n",
       "      <th>Embarked: C</th>\n",
       "      <th>Embarked: Q</th>\n",
       "      <th>Embarked: S</th>\n",
       "      <th>diedSurvived</th>\n",
       "      <th>Survived</th>\n",
       "    </tr>\n",
       "  </thead>\n",
       "  <tbody>\n",
       "    <tr>\n",
       "      <th>0</th>\n",
       "      <td>1</td>\n",
       "      <td>3</td>\n",
       "      <td>Braund, Mr. Owen Harris</td>\n",
       "      <td>male</td>\n",
       "      <td>1</td>\n",
       "      <td>0.0</td>\n",
       "      <td>1.0</td>\n",
       "      <td>22.0</td>\n",
       "      <td>1</td>\n",
       "      <td>0</td>\n",
       "      <td>A/5 21171</td>\n",
       "      <td>7.2500</td>\n",
       "      <td>NaN</td>\n",
       "      <td>S</td>\n",
       "      <td>2</td>\n",
       "      <td>0.0</td>\n",
       "      <td>0.0</td>\n",
       "      <td>1.0</td>\n",
       "      <td>Died</td>\n",
       "      <td>0</td>\n",
       "    </tr>\n",
       "    <tr>\n",
       "      <th>1</th>\n",
       "      <td>2</td>\n",
       "      <td>1</td>\n",
       "      <td>Cumings, Mrs. John Bradley (Florence Briggs Th...</td>\n",
       "      <td>female</td>\n",
       "      <td>0</td>\n",
       "      <td>1.0</td>\n",
       "      <td>0.0</td>\n",
       "      <td>38.0</td>\n",
       "      <td>1</td>\n",
       "      <td>0</td>\n",
       "      <td>PC 17599</td>\n",
       "      <td>71.2833</td>\n",
       "      <td>C85</td>\n",
       "      <td>C</td>\n",
       "      <td>0</td>\n",
       "      <td>1.0</td>\n",
       "      <td>0.0</td>\n",
       "      <td>0.0</td>\n",
       "      <td>Survived</td>\n",
       "      <td>1</td>\n",
       "    </tr>\n",
       "    <tr>\n",
       "      <th>2</th>\n",
       "      <td>3</td>\n",
       "      <td>3</td>\n",
       "      <td>Heikkinen, Miss. Laina</td>\n",
       "      <td>female</td>\n",
       "      <td>0</td>\n",
       "      <td>1.0</td>\n",
       "      <td>0.0</td>\n",
       "      <td>26.0</td>\n",
       "      <td>0</td>\n",
       "      <td>0</td>\n",
       "      <td>STON/O2. 3101282</td>\n",
       "      <td>7.9250</td>\n",
       "      <td>NaN</td>\n",
       "      <td>S</td>\n",
       "      <td>2</td>\n",
       "      <td>0.0</td>\n",
       "      <td>0.0</td>\n",
       "      <td>1.0</td>\n",
       "      <td>Survived</td>\n",
       "      <td>1</td>\n",
       "    </tr>\n",
       "    <tr>\n",
       "      <th>3</th>\n",
       "      <td>4</td>\n",
       "      <td>1</td>\n",
       "      <td>Futrelle, Mrs. Jacques Heath (Lily May Peel)</td>\n",
       "      <td>female</td>\n",
       "      <td>0</td>\n",
       "      <td>1.0</td>\n",
       "      <td>0.0</td>\n",
       "      <td>35.0</td>\n",
       "      <td>1</td>\n",
       "      <td>0</td>\n",
       "      <td>113803</td>\n",
       "      <td>53.1000</td>\n",
       "      <td>C123</td>\n",
       "      <td>S</td>\n",
       "      <td>2</td>\n",
       "      <td>0.0</td>\n",
       "      <td>0.0</td>\n",
       "      <td>1.0</td>\n",
       "      <td>Survived</td>\n",
       "      <td>1</td>\n",
       "    </tr>\n",
       "    <tr>\n",
       "      <th>4</th>\n",
       "      <td>5</td>\n",
       "      <td>3</td>\n",
       "      <td>Allen, Mr. William Henry</td>\n",
       "      <td>male</td>\n",
       "      <td>1</td>\n",
       "      <td>0.0</td>\n",
       "      <td>1.0</td>\n",
       "      <td>35.0</td>\n",
       "      <td>0</td>\n",
       "      <td>0</td>\n",
       "      <td>373450</td>\n",
       "      <td>8.0500</td>\n",
       "      <td>NaN</td>\n",
       "      <td>S</td>\n",
       "      <td>2</td>\n",
       "      <td>0.0</td>\n",
       "      <td>0.0</td>\n",
       "      <td>1.0</td>\n",
       "      <td>Died</td>\n",
       "      <td>0</td>\n",
       "    </tr>\n",
       "  </tbody>\n",
       "</table>\n",
       "</div>"
      ],
      "text/plain": [
       "   PassengerId  Pclass                                               Name  \\\n",
       "0            1       3                            Braund, Mr. Owen Harris   \n",
       "1            2       1  Cumings, Mrs. John Bradley (Florence Briggs Th...   \n",
       "2            3       3                             Heikkinen, Miss. Laina   \n",
       "3            4       1       Futrelle, Mrs. Jacques Heath (Lily May Peel)   \n",
       "4            5       3                           Allen, Mr. William Henry   \n",
       "\n",
       "      Sex  SexL  Sex: female  Sex: male   Age  SibSp  Parch            Ticket  \\\n",
       "0    male     1          0.0        1.0  22.0      1      0         A/5 21171   \n",
       "1  female     0          1.0        0.0  38.0      1      0          PC 17599   \n",
       "2  female     0          1.0        0.0  26.0      0      0  STON/O2. 3101282   \n",
       "3  female     0          1.0        0.0  35.0      1      0            113803   \n",
       "4    male     1          0.0        1.0  35.0      0      0            373450   \n",
       "\n",
       "      Fare Cabin Embarked  EmbarkedL  Embarked: C  Embarked: Q  Embarked: S  \\\n",
       "0   7.2500   NaN        S          2          0.0          0.0          1.0   \n",
       "1  71.2833   C85        C          0          1.0          0.0          0.0   \n",
       "2   7.9250   NaN        S          2          0.0          0.0          1.0   \n",
       "3  53.1000  C123        S          2          0.0          0.0          1.0   \n",
       "4   8.0500   NaN        S          2          0.0          0.0          1.0   \n",
       "\n",
       "  diedSurvived  Survived  \n",
       "0         Died         0  \n",
       "1     Survived         1  \n",
       "2     Survived         1  \n",
       "3     Survived         1  \n",
       "4         Died         0  "
      ]
     },
     "execution_count": 42,
     "metadata": {},
     "output_type": "execute_result"
    }
   ],
   "source": [
    "df.head()"
   ]
  },
  {
   "cell_type": "code",
   "execution_count": 26,
   "metadata": {},
   "outputs": [],
   "source": [
    "klaseTitanika = dict(list(zip(df.Survived.unique(), df.diedSurvived.unique())))"
   ]
  },
  {
   "cell_type": "markdown",
   "metadata": {},
   "source": [
    "# Grafovi"
   ]
  },
  {
   "cell_type": "code",
   "execution_count": 11,
   "metadata": {},
   "outputs": [
    {
     "data": {
      "image/png": "[encoded data removed]",
      "text/plain": [
       "<Figure size 432x288 with 1 Axes>"
      ]
     },
     "metadata": {
      "needs_background": "light"
     },
     "output_type": "display_data"
    }
   ],
   "source": [
    "x = df['diedSurvived']\n",
    "y = df['Age']\n",
    "\n",
    "plt.xlabel('Preživio ili poginuo')\n",
    "plt.ylabel('Dob putnika')\n",
    "plt.title('Odnos preživjelih putnika s obzirom na dob')\n",
    "plt.scatter(x, y, c='red', s=50, alpha=0.20)\n",
    "plt.savefig('ScatterSurvivedAge.png', dpi=200)\n",
    "plt.show()"
   ]
  },
  {
   "cell_type": "code",
   "execution_count": 12,
   "metadata": {},
   "outputs": [
    {
     "data": {
      "image/png": "[encoded data removed]",
      "text/plain": [
       "<Figure size 432x288 with 1 Axes>"
      ]
     },
     "metadata": {
      "needs_background": "light"
     },
     "output_type": "display_data"
    }
   ],
   "source": [
    "df['Age'].plot.hist(bins=30) \n",
    "\n",
    "plt.xlabel('Dob putnika')\n",
    "plt.ylabel('Broj putnika')\n",
    "plt.title('Histogram dobi putnika')\n",
    "plt.axvline(df['Age'].mean(), color='orange', linestyle='dashed', linewidth=2)\n",
    "plt.savefig('HistAge.png', dpi=200)"
   ]
  },
  {
   "cell_type": "code",
   "execution_count": 13,
   "metadata": {},
   "outputs": [
    {
     "data": {
      "image/png": "[encoded data removed]",
      "text/plain": [
       "<Figure size 432x288 with 1 Axes>"
      ]
     },
     "metadata": {
      "needs_background": "light"
     },
     "output_type": "display_data"
    }
   ],
   "source": [
    "df['SibSp'].plot.hist(bins=6) \n",
    "\n",
    "plt.xlabel('Broj braće/sestara/supružnika na brodu')\n",
    "plt.ylabel('Broj putnika')\n",
    "plt.title('Histogram putnika ovisno o varijabli SibSp')\n",
    "plt.axvline(df['SibSp'].mean(), color='orange', linestyle='dashed', linewidth=3)\n",
    "plt.savefig('HistSibSp.png', dpi=200)"
   ]
  },
  {
   "cell_type": "code",
   "execution_count": 14,
   "metadata": {},
   "outputs": [
    {
     "data": {
      "image/png": "[encoded data removed]",
      "text/plain": [
       "<Figure size 432x288 with 1 Axes>"
      ]
     },
     "metadata": {
      "needs_background": "light"
     },
     "output_type": "display_data"
    }
   ],
   "source": [
    "df['Parch'].plot.hist(bins=6) \n",
    "\n",
    "plt.xlabel('Broj djece/roditelja na brodu')\n",
    "plt.ylabel('Broj putnika')\n",
    "plt.title('Histogram putnika ovisno o varijabli Parch')\n",
    "plt.axvline(df['Parch'].mean(), color='orange', linestyle='dashed', linewidth=3)\n",
    "plt.savefig('HistParch.png', dpi=200)"
   ]
  },
  {
   "cell_type": "code",
   "execution_count": 15,
   "metadata": {},
   "outputs": [
    {
     "data": {
      "image/png": "[encoded data removed]",
      "text/plain": [
       "<Figure size 432x288 with 1 Axes>"
      ]
     },
     "metadata": {
      "needs_background": "light"
     },
     "output_type": "display_data"
    }
   ],
   "source": [
    "plt.bar(x=df['Embarked'].value_counts(True).index,  height=df['Embarked'].value_counts(True).get_values()*100)\n",
    "\n",
    "plt.xlabel('Polazište')\n",
    "plt.ylabel('% putnika')\n",
    "plt.title('Postotak putnika i njihova polazišta')\n",
    "plt.savefig('BarEmbarked', dpi=200)"
   ]
  },
  {
   "cell_type": "code",
   "execution_count": 16,
   "metadata": {},
   "outputs": [
    {
     "data": {
      "image/png": "[encoded data removed]",
      "text/plain": [
       "<Figure size 432x288 with 1 Axes>"
      ]
     },
     "metadata": {},
     "output_type": "display_data"
    }
   ],
   "source": [
    "plt.pie(df['Sex'].value_counts(True).get_values()*100, labels=df['Sex'].value_counts(True).index, autopct='%1.1f%%',)\n",
    "\n",
    "plt.title('Odnos muških i ženskih putnika')\n",
    "plt.savefig('SexPie.png', dpi = 200)"
   ]
  },
  {
   "cell_type": "code",
   "execution_count": 17,
   "metadata": {},
   "outputs": [
    {
     "data": {
      "image/png": "[encoded data removed]",
      "text/plain": [
       "<Figure size 432x288 with 1 Axes>"
      ]
     },
     "metadata": {
      "needs_background": "light"
     },
     "output_type": "display_data"
    }
   ],
   "source": [
    "df['Age'].plot.box() \n",
    "\n",
    "plt.xlabel('Distribucija putnika')\n",
    "plt.ylabel('Dob putnika')\n",
    "plt.title('Boxplot dobi putnika')\n",
    "plt.savefig('BoxAge.png', dpi=200)"
   ]
  },
  {
   "cell_type": "code",
   "execution_count": 18,
   "metadata": {},
   "outputs": [
    {
     "data": {
      "image/png": "[encoded data removed]",
      "text/plain": [
       "<Figure size 432x288 with 1 Axes>"
      ]
     },
     "metadata": {
      "needs_background": "light"
     },
     "output_type": "display_data"
    }
   ],
   "source": [
    "plt.bar(x=df['Pclass'].value_counts(True).index,  height=df['Pclass'].value_counts(True).get_values()*100)\n",
    "plt.xlabel('Klasa')\n",
    "plt.ylabel('% putnika')\n",
    "plt.title('Postotak putnika po klasama')\n",
    "plt.savefig('BarKlas.png', dpi=200)"
   ]
  },
  {
   "cell_type": "markdown",
   "metadata": {},
   "source": [
    "## Scatter matrix"
   ]
  },
  {
   "cell_type": "code",
   "execution_count": 27,
   "metadata": {},
   "outputs": [
    {
     "data": {
      "image/png": "[encoded data removed]",
      "text/plain": [
       "<Figure size 792x792 with 36 Axes>"
      ]
     },
     "metadata": {
      "needs_background": "light"
     },
     "output_type": "display_data"
    }
   ],
   "source": [
    "x = df[['Age', 'Pclass', 'SibSp', 'Parch', 'SexL', 'EmbarkedL']]\n",
    "y = df['Survived']\n",
    "\n",
    "cmap = cm.get_cmap('gnuplot')\n",
    "scatter = pd.plotting.scatter_matrix(x, c = y, marker = 'o', s = 40, hist_kwds = {'bins': 15}, figsize=(11,11), cmap = cmap)\n",
    "plt.savefig('ScatterMatrix.png', dpi=250)"
   ]
  },
  {
   "cell_type": "markdown",
   "metadata": {},
   "source": [
    "## Train_test_split"
   ]
  },
  {
   "cell_type": "code",
   "execution_count": 42,
   "metadata": {},
   "outputs": [],
   "source": [
    "X = df[['Age', 'Sex: male', 'Sex: female', 'Embarked: S', 'Embarked: C', 'Embarked: Q', 'Pclass', 'SibSp', 'Parch']]\n",
    "y = df['Survived']"
   ]
  },
  {
   "cell_type": "markdown",
   "metadata": {},
   "source": [
    "# KNN"
   ]
  },
  {
   "cell_type": "markdown",
   "metadata": {},
   "source": [
    "## Scatter točnosti"
   ]
  },
  {
   "cell_type": "code",
   "execution_count": 23,
   "metadata": {},
   "outputs": [
    {
     "data": {
      "image/png": "[encoded data removed]",
      "text/plain": [
       "<Figure size 432x288 with 1 Axes>"
      ]
     },
     "metadata": {
      "needs_background": "light"
     },
     "output_type": "display_data"
    }
   ],
   "source": [
    "raspon_k = range(1,10)\n",
    "scores = []\n",
    "\n",
    "for k in raspon_k:\n",
    "    knn = KNeighborsClassifier(n_neighbors=k)\n",
    "    knn.fit(X_train, y_train)\n",
    "    scores.append(knn.score(X_test, y_test))\n",
    "    \n",
    "plt.figure()\n",
    "plt.title('Scatter točnosti KNN klasifikatora ovisno o broju k')\n",
    "plt.xlabel('k')\n",
    "plt.ylabel('Točnost predviđanja')\n",
    "plt.scatter(raspon_k, scores)\n",
    "plt.xticks([0,2,4,6,8,10])\n",
    "plt.savefig('ScatterKNN.png', dpi = 200)"
   ]
  },
  {
   "cell_type": "code",
   "execution_count": 24,
   "metadata": {},
   "outputs": [
    {
     "data": {
      "image/png": "[encoded data removed]",
      "text/plain": [
       "<Figure size 432x288 with 1 Axes>"
      ]
     },
     "metadata": {
      "needs_background": "light"
     },
     "output_type": "display_data"
    }
   ],
   "source": [
    "t = [0.9, 0.8, 0.7, 0.6, 0.5, 0.4, 0.3, 0.2]\n",
    "\n",
    "knn = KNeighborsClassifier(n_neighbors=3)\n",
    "plt.figure()\n",
    "for s in t:\n",
    "    scores = []\n",
    "    for i in range(1,100):\n",
    "        X_train, X_test, y_train, y_test = train_test_split(X,y, test_size=1-s)\n",
    "        knn.fit(X_train, y_train)\n",
    "        scores.append(knn.score(X_test,y_test))\n",
    "    plt.plot(s, np.mean(scores), 'bo')\n",
    "plt.title('Scatter točnosti KNN klasifikatora\\n u odnosu na udio podataka u skupu za treniranje')\n",
    "plt.xlabel('Udio podataka u skupu za treniranje')\n",
    "plt.ylabel('Točnost')\n",
    "plt.savefig('ScatterKNN2.png', dpi = 200)"
   ]
  },
  {
   "cell_type": "code",
   "execution_count": 46,
   "metadata": {},
   "outputs": [
    {
     "name": "stdout",
     "output_type": "stream",
     "text": [
      "Točnost na skupu za treniranje: 0.86\n",
      "Točnost na skupu za testiranje: 0.83\n"
     ]
    }
   ],
   "source": [
    "X_train, X_test, y_train, y_test = train_test_split(X, y, train_size=0.8, random_state = 0)\n",
    "\n",
    "knn = KNeighborsClassifier(n_neighbors=3)\n",
    "\n",
    "knn.fit(X_train, y_train)\n",
    "\n",
    "print('Točnost na skupu za treniranje: {:.2f}'\n",
    "     .format(knn.score(X_train, y_train)))\n",
    "print('Točnost na skupu za testiranje: {:.2f}'\n",
    "     .format(knn.score(X_test, y_test)))"
   ]
  },
  {
   "cell_type": "code",
   "execution_count": null,
   "metadata": {},
   "outputs": [],
   "source": [
    "disp = plot_precision_recall_curve(classifier, X_test, y_test)\n",
    "disp.ax_.set_title('2-class Precision-Recall curve: '\n",
    "                   'AP={0:0.2f}'.format(average_precision))"
   ]
  },
  {
   "cell_type": "code",
   "execution_count": 584,
   "metadata": {},
   "outputs": [
    {
     "name": "stdout",
     "output_type": "stream",
     "text": [
      "[0 0 1 1 0 0 1 0 0 1 1 0 1 0 0 0 0 1 0 0 0 1 1 1 0 0 0 0 0 1 0 0 0 1 1 0 1\n",
      " 0 0 1 0 0 0 0 0 0 1 0 0 1 1 1 1 0 1 0 0 0 1 1 0 0 0 1 0 0 1 0 1 1 0 1 1 1\n",
      " 0 0 1 0 0 0 0 1 0 1 1 0 0 0 1 0 0 0 0 1 1 0 1 1 0 0 0 1 0 0 0 0 1 0 0 0 0\n",
      " 1 1 0 0 0 0 0 0 0 0 0 0 0 1 0 0 1 0 1 1 1 1 1 1 1 1 0 0 0 0 0 1] \n",
      "\n",
      "[0 0 1 0 0 0 1 0 0 0 1 1 1 0 0 1 0 1 1 0 0 1 1 1 0 0 0 0 1 0 0 0 0 1 1 0 1\n",
      " 1 1 1 1 1 0 0 0 0 1 0 0 1 1 0 1 0 0 0 0 0 1 0 0 0 0 1 0 0 1 1 0 1 0 1 1 1\n",
      " 0 0 1 1 0 0 0 1 1 1 1 0 0 0 1 0 0 0 1 1 1 0 1 1 0 1 0 1 0 0 0 0 1 0 0 0 0\n",
      " 1 1 1 0 0 1 0 0 1 0 0 0 0 0 0 0 0 0 1 1 1 1 1 1 1 1 0 0 0 0 0 1] \n",
      "\n"
     ]
    }
   ],
   "source": [
    "print(knn_predicted, '\\n')\n",
    "print(y_test.values, '\\n')"
   ]
  },
  {
   "cell_type": "code",
   "execution_count": 25,
   "metadata": {},
   "outputs": [
    {
     "data": {
      "text/plain": [
       "2.867132867132867"
      ]
     },
     "execution_count": 25,
     "metadata": {},
     "output_type": "execute_result"
    }
   ],
   "source": [
    "pdpredict = pd.Series(knn.predict(X_test))\n",
    "matrica_konfuzije = pd.crosstab(pdpredict.values, y_test.values)\n",
    "matrica_konfuzije\n",
    "\n",
    "(matrica_konfuzije.iloc[0,0] + matrica_konfuzije.iloc[1,1])/143"
   ]
  },
  {
   "cell_type": "code",
   "execution_count": 585,
   "metadata": {},
   "outputs": [
    {
     "name": "stdout",
     "output_type": "stream",
     "text": [
      "0.8902439024390244\n",
      "0.7377049180327869\n"
     ]
    },
    {
     "data": {
      "text/plain": [
       "Text(0, 0.5, '% Točno klasificiranih')"
      ]
     },
     "execution_count": 585,
     "metadata": {},
     "output_type": "execute_result"
    },
    {
     "data": {
      "image/png": "[encoded data removed]",
      "text/plain": [
       "<Figure size 432x288 with 1 Axes>"
      ]
     },
     "metadata": {
      "needs_background": "light"
     },
     "output_type": "display_data"
    }
   ],
   "source": [
    "# Postotak ispravno klasificiranih iz klase 0\n",
    "tn = matrica_konfuzije.iloc[0,0]/ (matrica_konfuzije.iloc[0,0] + matrica_konfuzije.iloc[1,0])\n",
    "print(tn)\n",
    "\n",
    "# Postotak ispravno klasificiranih iz klase 1\n",
    "tp = matrica_konfuzije.iloc[1,1]/ (matrica_konfuzije.iloc[0,1] + matrica_konfuzije.iloc[1,1])\n",
    "print(tp)\n",
    "\n",
    "ispravno = pd.Series([tn,tp])\n",
    "ispravno\n",
    "\n",
    "plt.bar(x=ispravno.index, height=ispravno.values*100)\n",
    "plt.xlabel('Klasa')\n",
    "plt.ylabel('% Točno klasificiranih')"
   ]
  },
  {
   "cell_type": "markdown",
   "metadata": {},
   "source": [
    "# Logistička regresija za klasifikaciju"
   ]
  },
  {
   "cell_type": "code",
   "execution_count": 43,
   "metadata": {},
   "outputs": [
    {
     "name": "stdout",
     "output_type": "stream",
     "text": [
      "Slobodni koeficijent:  [[-0.04014433 -1.24252289  1.2449956  -0.13947287  0.43538759 -0.29344201\n",
      "  -1.1480655  -0.40409871 -0.01913164]] \n",
      "\n",
      "Intercept:  [3.81582501] \n",
      "\n",
      "Točnost na skupu za treniranje: 0.80\n",
      "Točnost na skupu za testiranje: 0.82\n"
     ]
    },
    {
     "data": {
      "text/html": [
       "<div>\n",
       "<style scoped>\n",
       "    .dataframe tbody tr th:only-of-type {\n",
       "        vertical-align: middle;\n",
       "    }\n",
       "\n",
       "    .dataframe tbody tr th {\n",
       "        vertical-align: top;\n",
       "    }\n",
       "\n",
       "    .dataframe thead th {\n",
       "        text-align: right;\n",
       "    }\n",
       "</style>\n",
       "<table border=\"1\" class=\"dataframe\">\n",
       "  <thead>\n",
       "    <tr style=\"text-align: right;\">\n",
       "      <th></th>\n",
       "      <th>0</th>\n",
       "      <th>1</th>\n",
       "      <th>2</th>\n",
       "      <th>3</th>\n",
       "      <th>4</th>\n",
       "      <th>5</th>\n",
       "      <th>6</th>\n",
       "      <th>7</th>\n",
       "      <th>8</th>\n",
       "    </tr>\n",
       "  </thead>\n",
       "  <tbody>\n",
       "    <tr>\n",
       "      <th>0</th>\n",
       "      <td>-0.040144</td>\n",
       "      <td>-1.242523</td>\n",
       "      <td>1.244996</td>\n",
       "      <td>-0.139473</td>\n",
       "      <td>0.435388</td>\n",
       "      <td>-0.293442</td>\n",
       "      <td>-1.148066</td>\n",
       "      <td>-0.404099</td>\n",
       "      <td>-0.019132</td>\n",
       "    </tr>\n",
       "  </tbody>\n",
       "</table>\n",
       "</div>"
      ],
      "text/plain": [
       "          0         1         2         3         4         5         6  \\\n",
       "0 -0.040144 -1.242523  1.244996 -0.139473  0.435388 -0.293442 -1.148066   \n",
       "\n",
       "          7         8  \n",
       "0 -0.404099 -0.019132  "
      ]
     },
     "execution_count": 43,
     "metadata": {},
     "output_type": "execute_result"
    }
   ],
   "source": [
    "X = df[['Age', 'Sex: male', 'Sex: female', 'Embarked: S', 'Embarked: C', 'Embarked: Q', 'Pclass', 'SibSp', 'Parch']]\n",
    "y = df['Survived']\n",
    "X_train, X_test, y_train, y_test = train_test_split(X, y, train_size=0.8, random_state = 0)\n",
    "\n",
    "log_reg = LogisticRegression(solver = 'lbfgs', max_iter = 150)\n",
    "log_reg.fit(X_train, y_train)\n",
    "\n",
    "print('Slobodni koeficijent: ', log_reg.coef_, '\\n')\n",
    "print('Intercept: ', log_reg.intercept_, '\\n')\n",
    "\n",
    "print('Točnost na skupu za treniranje: {:.2f}'\n",
    "     .format(log_reg.score(X_train, y_train)))\n",
    "print('Točnost na skupu za testiranje: {:.2f}'\n",
    "     .format(log_reg.score(X_test, y_test)))\n",
    "coef = pd.DataFrame(log_reg.coef_)\n",
    "coef"
   ]
  },
  {
   "cell_type": "code",
   "execution_count": 27,
   "metadata": {},
   "outputs": [
    {
     "data": {
      "text/html": [
       "<div>\n",
       "<style scoped>\n",
       "    .dataframe tbody tr th:only-of-type {\n",
       "        vertical-align: middle;\n",
       "    }\n",
       "\n",
       "    .dataframe tbody tr th {\n",
       "        vertical-align: top;\n",
       "    }\n",
       "\n",
       "    .dataframe thead th {\n",
       "        text-align: right;\n",
       "    }\n",
       "</style>\n",
       "<table border=\"1\" class=\"dataframe\">\n",
       "  <thead>\n",
       "    <tr style=\"text-align: right;\">\n",
       "      <th></th>\n",
       "      <th>Age</th>\n",
       "      <th>Sex: male</th>\n",
       "      <th>Sex: female</th>\n",
       "      <th>Embarked: S</th>\n",
       "      <th>Embarked: C</th>\n",
       "      <th>Embarked: Q</th>\n",
       "      <th>Pclass</th>\n",
       "      <th>SibSp</th>\n",
       "      <th>Parch</th>\n",
       "    </tr>\n",
       "  </thead>\n",
       "  <tbody>\n",
       "    <tr>\n",
       "      <th>0</th>\n",
       "      <td>-0.040144</td>\n",
       "      <td>-1.242523</td>\n",
       "      <td>1.244996</td>\n",
       "      <td>-0.139473</td>\n",
       "      <td>0.435388</td>\n",
       "      <td>-0.293442</td>\n",
       "      <td>-1.148066</td>\n",
       "      <td>-0.404099</td>\n",
       "      <td>-0.019132</td>\n",
       "    </tr>\n",
       "  </tbody>\n",
       "</table>\n",
       "</div>"
      ],
      "text/plain": [
       "        Age  Sex: male  Sex: female  Embarked: S  Embarked: C  Embarked: Q  \\\n",
       "0 -0.040144  -1.242523     1.244996    -0.139473     0.435388    -0.293442   \n",
       "\n",
       "     Pclass     SibSp     Parch  \n",
       "0 -1.148066 -0.404099 -0.019132  "
      ]
     },
     "execution_count": 27,
     "metadata": {},
     "output_type": "execute_result"
    }
   ],
   "source": [
    "koeficijenti = pd.DataFrame(log_reg.coef_)\n",
    "koeficijenti.columns = ['Age', 'Sex: male', 'Sex: female', 'Embarked: S', 'Embarked: C', 'Embarked: Q', 'Pclass', 'SibSp', 'Parch']\n",
    "koeficijenti"
   ]
  },
  {
   "cell_type": "code",
   "execution_count": 32,
   "metadata": {},
   "outputs": [
    {
     "name": "stderr",
     "output_type": "stream",
     "text": [
      "/opt/anaconda3/lib/python3.7/site-packages/ipykernel_launcher.py:9: MatplotlibDeprecationWarning: Adding an axes using the same arguments as a previous axes currently reuses the earlier instance.  In a future version, a new instance will always be created and returned.  Meanwhile, this warning can be suppressed, and the future behavior ensured, by passing a unique label to each axes instance.\n",
      "  if __name__ == '__main__':\n"
     ]
    },
    {
     "data": {
      "image/png": "[encoded data removed]",
      "text/plain": [
       "<Figure size 864x648 with 1 Axes>"
      ]
     },
     "metadata": {
      "needs_background": "light"
     },
     "output_type": "display_data"
    }
   ],
   "source": [
    "x = range(9)\n",
    "y = range(2)\n",
    "negative_data = [0, 0, -0.040144, -1.242523, -0.139473, -0.293442, -1.148066, -0.404099, -0.019132]\n",
    "positive_data = [1.244996, 0.435388]\n",
    "\n",
    "fig = plt.figure(figsize = (12,9))\n",
    "xtickl = ('Sex: female', 'Embarked: C', 'Age', 'Sex: male', 'Embarked: S', 'Embarked: Q', 'Pclass', 'SibSp', 'Parch')\n",
    "plt.xticks(np.arange(9), xtickl)\n",
    "ax = plt.subplot(111)\n",
    "ax.bar(x, negative_data, width=0.9, color='r')\n",
    "ax.bar(y, positive_data, width=0.9, color='b')\n",
    "plt.title('Stupčasti grafikon slobodnih koeficijenata')\n",
    "plt.xlabel('Varijabla')\n",
    "plt.ylabel('Vrijednost koeficijenta uz varijablu')\n",
    "plt.savefig('BarCoef.png', dpi = 200)"
   ]
  },
  {
   "cell_type": "code",
   "execution_count": 598,
   "metadata": {},
   "outputs": [
    {
     "name": "stdout",
     "output_type": "stream",
     "text": [
      "[1 0 1 0 0 0 1 0 0 1 1 1 1 0 0 1 0 1 0 0 0 1 1 0 0 0 0 0 0 0 0 0 0 1 1 1 1\n",
      " 0 0 1 0 0 0 0 0 0 1 0 0 1 1 1 1 0 1 1 0 0 1 0 0 0 0 0 0 0 1 0 1 1 0 1 1 1\n",
      " 0 0 0 0 0 0 0 1 0 1 1 0 0 0 1 0 0 0 1 1 1 0 1 1 0 0 0 1 0 0 0 0 1 0 0 0 0\n",
      " 1 1 0 0 0 0 0 0 0 0 0 0 1 0 0 0 0 1 1 0 1 1 1 1 1 1 0 0 0 0 0 1] \n",
      "\n",
      "[0 0 1 0 0 0 1 0 0 0 1 1 1 0 0 1 0 1 1 0 0 1 1 1 0 0 0 0 1 0 0 0 0 1 1 0 1\n",
      " 1 1 1 1 1 0 0 0 0 1 0 0 1 1 0 1 0 0 0 0 0 1 0 0 0 0 1 0 0 1 1 0 1 0 1 1 1\n",
      " 0 0 1 1 0 0 0 1 1 1 1 0 0 0 1 0 0 0 1 1 1 0 1 1 0 1 0 1 0 0 0 0 1 0 0 0 0\n",
      " 1 1 1 0 0 1 0 0 1 0 0 0 0 0 0 0 0 0 1 1 1 1 1 1 1 1 0 0 0 0 0 1]\n"
     ]
    }
   ],
   "source": [
    "print(lr_predicted, '\\n')\n",
    "print(y_test.values)"
   ]
  },
  {
   "cell_type": "code",
   "execution_count": 50,
   "metadata": {},
   "outputs": [
    {
     "name": "stderr",
     "output_type": "stream",
     "text": [
      "/opt/anaconda3/lib/python3.7/site-packages/ipykernel_launcher.py:15: MatplotlibDeprecationWarning: Adding an axes using the same arguments as a previous axes currently reuses the earlier instance.  In a future version, a new instance will always be created and returned.  Meanwhile, this warning can be suppressed, and the future behavior ensured, by passing a unique label to each axes instance.\n",
      "  from ipykernel import kernelapp as app\n"
     ]
    },
    {
     "data": {
      "image/png": "[encoded data removed]",
      "text/plain": [
       "<Figure size 432x288 with 1 Axes>"
      ]
     },
     "metadata": {
      "needs_background": "light"
     },
     "output_type": "display_data"
    }
   ],
   "source": [
    "lr = LogisticRegression(solver = 'lbfgs', max_iter = 150)\n",
    "y_score_lr = lr.fit(X_train, y_train).decision_function(X_test)\n",
    "fpr_lr, tpr_lr, _ = roc_curve(y_test, y_score_lr)\n",
    "roc_auc_lr = auc(fpr_lr, tpr_lr)\n",
    "\n",
    "plt.figure()\n",
    "plt.xlim([-0.01, 1.00])\n",
    "plt.ylim([-0.01, 1.01])\n",
    "plt.plot(fpr_lr, tpr_lr, lw=3, label='Area = {:0.2f}'.format(roc_auc_lr))\n",
    "plt.xlabel('Stopa FP', fontsize=16)\n",
    "plt.ylabel('Stopa TP', fontsize=16)\n",
    "plt.title('ROC krivulja', fontsize=16)\n",
    "plt.legend(loc='lower right', fontsize=13)\n",
    "plt.plot([0, 1], [0, 1], color='navy', lw=3, linestyle='--')\n",
    "plt.axes().set_aspect('equal')\n",
    "plt.savefig('ROCkrivulja.png', dpi = 200)"
   ]
  },
  {
   "cell_type": "markdown",
   "metadata": {},
   "source": [
    "# Neuronska mreža za klasifikaciju"
   ]
  },
  {
   "cell_type": "code",
   "execution_count": 48,
   "metadata": {},
   "outputs": [
    {
     "name": "stdout",
     "output_type": "stream",
     "text": [
      "Točnost na skupu za treniranje: 0.84\n",
      "Točnost na skupu za testiranje: 0.84\n"
     ]
    }
   ],
   "source": [
    "X1 = df[['Age', 'Sex: male', 'Sex: female', 'Embarked: S', 'Embarked: C', 'Embarked: Q', 'Pclass', 'SibSp', 'Parch']]\n",
    "y1 = df['Survived']\n",
    "X_train1, X_test1, y_train1, y_test1 = train_test_split(X1, y1, train_size=0.75, random_state = 1)\n",
    "\n",
    "nn = MLPClassifier(activation = 'tanh', hidden_layer_sizes = [100, 100], alpha = 5,\n",
    "                   random_state = 0, solver='lbfgs').fit(X_train1, y_train1)\n",
    "\n",
    "print('Točnost na skupu za treniranje: {:.2f}'\n",
    "     .format(nn.score(X_train1, y_train1)))\n",
    "print('Točnost na skupu za testiranje: {:.2f}'\n",
    "     .format(nn.score(X_test1, y_test1)))"
   ]
  },
  {
   "cell_type": "code",
   "execution_count": 611,
   "metadata": {},
   "outputs": [
    {
     "name": "stdout",
     "output_type": "stream",
     "text": [
      "[0 0 1 0 0 0 1 0 0 1 1 0 1 0 0 1 0 1 0 0 0 1 1 1 0 0 0 0 0 0 0 0 0 0 1 1 1\n",
      " 0 0 1 0 0 0 0 0 0 1 0 0 1 1 0 0 0 1 0 0 0 1 0 0 0 0 1 0 0 1 0 1 1 0 1 1 1\n",
      " 0 0 1 0 0 0 0 1 0 1 1 0 0 0 1 0 0 0 0 1 1 0 1 1 0 0 0 1 0 0 0 0 0 0 0 0 0\n",
      " 1 1 0 0 0 0 0 0 0 0 0 0 1 0 0 0 0 1 1 0 1 1 1 1 1 0 0 0 0 0 0 1 0 0 0 0 0\n",
      " 0 0 0 0 0 1 1 0 0 0 1 1 1 0 1 0 0 0 0 0 0 0 1 0 1 0 0 0 1 0] \n",
      "\n",
      "[1 1 0 1 1 0 0 1 0 0 1 1 1 0 1 0 1 0 0 0 1 1 0 0 0 1 0 0 1 0 0 1 1 0 0 1 0\n",
      " 1 0 0 0 0 1 0 1 1 1 0 1 0 1 0 1 0 0 1 0 0 1 1 0 0 0 0 1 0 1 0 1 0 0 1 1 1\n",
      " 0 0 1 1 0 1 0 0 1 1 0 0 0 0 1 1 1 1 1 0 0 1 0 0 0 0 0 1 0 0 0 0 0 0 1 1 0\n",
      " 0 0 0 0 0 1 1 0 0 1 0 0 0 0 0 1 0 0 1 0 1 0 0 1 1 0 0 0 1 0 1 0 1 0 0 1 1\n",
      " 0 0 1 0 0 0 0 1 1 0 1 0 1 0 0 0 1 1 1 0 1 0 1 1 0 0 1 1 1 1]\n"
     ]
    }
   ],
   "source": [
    "print(nn_predicted, '\\n')\n",
    "print(y_test1.values)"
   ]
  },
  {
   "cell_type": "markdown",
   "metadata": {},
   "source": [
    "# ROC krivulja"
   ]
  },
  {
   "cell_type": "code",
   "execution_count": 51,
   "metadata": {},
   "outputs": [
    {
     "name": "stdout",
     "output_type": "stream",
     "text": [
      "Vrijednosti za KNN\n",
      "Accuracy: 0.83\n",
      "Precision: 0.83\n",
      "Recall: 0.74\n",
      "\n",
      "Vrijednosti za logistički regresor\n",
      "Accuracy: 0.82\n",
      "Precision: 0.84\n",
      "Recall: 0.70\n",
      "\n",
      "Vrijednosti za neuralnu mrežu\n",
      "Accuracy: 0.84\n",
      "Precision: 0.84\n",
      "Recall: 0.76\n"
     ]
    }
   ],
   "source": [
    "# Accuracy = TP + TN / (TP + TN + FP + FN)\n",
    "# Precision = TP / (TP + FP)\n",
    "# Recall = TP / (TP + FN)  \n",
    "knn_predicted = knn.predict(X_test)\n",
    "lr_predicted = lr.predict(X_test)\n",
    "nn_predicted = nn.predict(X_test1)\n",
    "\n",
    "print('Vrijednosti za KNN\\nAccuracy: {:.2f}'.format(accuracy_score(y_test, knn_predicted)))\n",
    "print('Precision: {:.2f}'.format(precision_score(y_test, knn_predicted)))\n",
    "print('Recall: {:.2f}\\n'.format(recall_score(y_test, knn_predicted)))\n",
    "\n",
    "print('Vrijednosti za logistički regresor\\nAccuracy: {:.2f}'.format(accuracy_score(y_test, lr_predicted)))\n",
    "print('Precision: {:.2f}'.format(precision_score(y_test, lr_predicted)))\n",
    "print('Recall: {:.2f}\\n'.format(recall_score(y_test, lr_predicted)))\n",
    "\n",
    "print('Vrijednosti za neuralnu mrežu\\nAccuracy: {:.2f}'.format(accuracy_score(y_test1, nn_predicted)))\n",
    "print('Precision: {:.2f}'.format(precision_score(y_test1, nn_predicted)))\n",
    "print('Recall: {:.2f}'.format(recall_score(y_test1, nn_predicted)))"
   ]
  },
  {
   "cell_type": "code",
   "execution_count": 32,
   "metadata": {},
   "outputs": [
    {
     "name": "stdout",
     "output_type": "stream",
     "text": [
      "Matrica konfuzije KNN klasifikatora: \n",
      " col_0          0          1\n",
      "row_0                      \n",
      "0      48.251748  13.286713\n",
      "1       9.090909  29.370629 \n",
      "\n",
      "Matrica konfuzije logističkog regresora: \n",
      " col_0          0          1\n",
      "row_0                      \n",
      "0      51.748252  12.587413\n",
      "1       5.594406  30.069930 \n",
      "\n",
      "Matrica konfuzije neuralne mreže: \n",
      " col_0          0         1\n",
      "row_0                     \n",
      "0      51.123596  10.11236\n",
      "1       6.179775  32.58427\n"
     ]
    }
   ],
   "source": [
    "matrica_konfuzije1 = pd.crosstab(knn.predict(X_test), y_test.values, normalize = True)*100\n",
    "print('Matrica konfuzije KNN klasifikatora: \\n', matrica_konfuzije1, '\\n')\n",
    "\n",
    "matrica_konfuzije2 = pd.crosstab(log_reg.predict(X_test), y_test.values, normalize = True)*100\n",
    "print('Matrica konfuzije logističkog regresora: \\n', matrica_konfuzije2, '\\n')\n",
    "\n",
    "matrica_konfuzije3 = pd.crosstab(nn.predict(X_test1), y_test1.values, normalize = True)*100\n",
    "print('Matrica konfuzije neuralne mreže: \\n', matrica_konfuzije3)"
   ]
  },
  {
   "cell_type": "code",
   "execution_count": null,
   "metadata": {},
   "outputs": [],
   "source": []
  }
 ],
 "metadata": {
  "kernelspec": {
   "display_name": "Python 3",
   "language": "python",
   "name": "python3"
  },
  "language_info": {
   "codemirror_mode": {
    "name": "ipython",
    "version": 3
   },
   "file_extension": ".py",
   "mimetype": "text/x-python",
   "name": "python",
   "nbconvert_exporter": "python",
   "pygments_lexer": "ipython3",
   "version": "3.7.3"
  }
 },
 "nbformat": 4,
 "nbformat_minor": 4
}
